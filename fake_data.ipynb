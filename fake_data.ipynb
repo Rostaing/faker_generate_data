{
 "cells": [
  {
   "cell_type": "code",
   "execution_count": 2,
   "id": "43ebafb2-380c-4227-b6f3-4bab46823c69",
   "metadata": {
    "tags": []
   },
   "outputs": [],
   "source": [
    "import pandas as pd\n",
    "from faker import Faker"
   ]
  },
  {
   "cell_type": "code",
   "execution_count": 3,
   "id": "906a3e8e-9afe-48cd-88ab-63ee2cafa142",
   "metadata": {
    "tags": []
   },
   "outputs": [],
   "source": [
    "fake = Faker(\"fr_FR\")"
   ]
  },
  {
   "cell_type": "code",
   "execution_count": 4,
   "id": "c76c1e13-ea88-4618-9f65-1d87760d9663",
   "metadata": {
    "tags": []
   },
   "outputs": [],
   "source": [
    "def input_data(x):\n",
    "    \n",
    "    data = pd.DataFrame()\n",
    "    for i in range(0, x):\n",
    "        data.loc[i, \"nom\"] = fake.name()\n",
    "        data.loc[i, \"data_naissance\"] = fake.date_of_birth()\n",
    "        data.loc[i, \"email\"] = fake.email()\n",
    "        data.loc[i, \"phone\"] = fake.phone_number()\n",
    "        data.loc[i, \"pays\"] = fake.country()\n",
    "        data.loc[i, \"ville\"] = fake.city()\n",
    "        data.loc[i, \"adresse\"] = fake.address()\n",
    "        data.loc[i, \"longitude\"] = fake.longitude()\n",
    "        data.loc[i, \"latitude\"] = fake.latitude()\n",
    "        data.loc[i, \"job\"] = fake.job()\n",
    "    return data"
   ]
  },
  {
   "cell_type": "code",
   "execution_count": 5,
   "id": "73e1ee3e-42fc-45ca-a0e2-f0c4185656d6",
   "metadata": {
    "tags": []
   },
   "outputs": [],
   "source": [
    "df = input_data(500)"
   ]
  },
  {
   "cell_type": "code",
   "execution_count": 6,
   "id": "b19b9111-a669-40ab-a6ad-31fd208dcd69",
   "metadata": {
    "tags": []
   },
   "outputs": [
    {
     "data": {
      "text/html": [
       "<div>\n",
       "<style scoped>\n",
       "    .dataframe tbody tr th:only-of-type {\n",
       "        vertical-align: middle;\n",
       "    }\n",
       "\n",
       "    .dataframe tbody tr th {\n",
       "        vertical-align: top;\n",
       "    }\n",
       "\n",
       "    .dataframe thead th {\n",
       "        text-align: right;\n",
       "    }\n",
       "</style>\n",
       "<table border=\"1\" class=\"dataframe\">\n",
       "  <thead>\n",
       "    <tr style=\"text-align: right;\">\n",
       "      <th></th>\n",
       "      <th>nom</th>\n",
       "      <th>data_naissance</th>\n",
       "      <th>email</th>\n",
       "      <th>phone</th>\n",
       "      <th>pays</th>\n",
       "      <th>ville</th>\n",
       "      <th>adresse</th>\n",
       "      <th>longitude</th>\n",
       "      <th>latitude</th>\n",
       "      <th>job</th>\n",
       "    </tr>\n",
       "  </thead>\n",
       "  <tbody>\n",
       "    <tr>\n",
       "      <th>0</th>\n",
       "      <td>Roger de Guyot</td>\n",
       "      <td>1977-11-30</td>\n",
       "      <td>elisabeth40@example.org</td>\n",
       "      <td>+33 (0)2 34 32 59 05</td>\n",
       "      <td>Cocos (Îles)</td>\n",
       "      <td>Durand-les-Bains</td>\n",
       "      <td>9, rue Barbier\\n06672 Leleu-sur-Bodin</td>\n",
       "      <td>-51.249878</td>\n",
       "      <td>-36.156219</td>\n",
       "      <td>électromécanicien en remontées mécaniques</td>\n",
       "    </tr>\n",
       "    <tr>\n",
       "      <th>1</th>\n",
       "      <td>Henriette Ollivier</td>\n",
       "      <td>2011-12-24</td>\n",
       "      <td>marianne61@example.net</td>\n",
       "      <td>0450877461</td>\n",
       "      <td>Israël</td>\n",
       "      <td>Le Goff</td>\n",
       "      <td>rue Jacquet\\n58868 Légernec</td>\n",
       "      <td>-165.006800</td>\n",
       "      <td>82.5079995</td>\n",
       "      <td>technicien radioprotection</td>\n",
       "    </tr>\n",
       "    <tr>\n",
       "      <th>2</th>\n",
       "      <td>Corinne-Madeleine Tanguy</td>\n",
       "      <td>2015-10-23</td>\n",
       "      <td>zmendes@example.com</td>\n",
       "      <td>0380154908</td>\n",
       "      <td>Japon</td>\n",
       "      <td>Guichard-sur-Letellier</td>\n",
       "      <td>386, rue de Dupré\\n88338 Sainte Marcelle</td>\n",
       "      <td>-29.917291</td>\n",
       "      <td>-57.729458</td>\n",
       "      <td>orthodontiste</td>\n",
       "    </tr>\n",
       "    <tr>\n",
       "      <th>3</th>\n",
       "      <td>Alain Pires</td>\n",
       "      <td>1971-08-15</td>\n",
       "      <td>fontainebernard@example.com</td>\n",
       "      <td>04 65 59 12 38</td>\n",
       "      <td>Colombie</td>\n",
       "      <td>Dupont</td>\n",
       "      <td>1, chemin Gomes\\n79428 Dupont-sur-Menard</td>\n",
       "      <td>-85.701108</td>\n",
       "      <td>-83.2896085</td>\n",
       "      <td>technicien en lignes haute tension</td>\n",
       "    </tr>\n",
       "    <tr>\n",
       "      <th>4</th>\n",
       "      <td>Caroline Gaudin</td>\n",
       "      <td>1925-10-23</td>\n",
       "      <td>goncalvesbenjamin@example.com</td>\n",
       "      <td>02 46 93 09 01</td>\n",
       "      <td>Sainte Hélène</td>\n",
       "      <td>DupréVille</td>\n",
       "      <td>4, avenue de Vincent\\n63815 Vaillant</td>\n",
       "      <td>137.331840</td>\n",
       "      <td>27.2748455</td>\n",
       "      <td>diététicien</td>\n",
       "    </tr>\n",
       "  </tbody>\n",
       "</table>\n",
       "</div>"
      ],
      "text/plain": [
       "                        nom data_naissance                          email  \\\n",
       "0            Roger de Guyot     1977-11-30        elisabeth40@example.org   \n",
       "1        Henriette Ollivier     2011-12-24         marianne61@example.net   \n",
       "2  Corinne-Madeleine Tanguy     2015-10-23            zmendes@example.com   \n",
       "3               Alain Pires     1971-08-15    fontainebernard@example.com   \n",
       "4           Caroline Gaudin     1925-10-23  goncalvesbenjamin@example.com   \n",
       "\n",
       "                  phone           pays                   ville  \\\n",
       "0  +33 (0)2 34 32 59 05   Cocos (Îles)        Durand-les-Bains   \n",
       "1            0450877461         Israël                 Le Goff   \n",
       "2            0380154908          Japon  Guichard-sur-Letellier   \n",
       "3        04 65 59 12 38       Colombie                  Dupont   \n",
       "4        02 46 93 09 01  Sainte Hélène              DupréVille   \n",
       "\n",
       "                                    adresse    longitude     latitude  \\\n",
       "0     9, rue Barbier\\n06672 Leleu-sur-Bodin   -51.249878   -36.156219   \n",
       "1               rue Jacquet\\n58868 Légernec  -165.006800   82.5079995   \n",
       "2  386, rue de Dupré\\n88338 Sainte Marcelle   -29.917291   -57.729458   \n",
       "3  1, chemin Gomes\\n79428 Dupont-sur-Menard   -85.701108  -83.2896085   \n",
       "4      4, avenue de Vincent\\n63815 Vaillant   137.331840   27.2748455   \n",
       "\n",
       "                                         job  \n",
       "0  électromécanicien en remontées mécaniques  \n",
       "1                 technicien radioprotection  \n",
       "2                              orthodontiste  \n",
       "3         technicien en lignes haute tension  \n",
       "4                                diététicien  "
      ]
     },
     "execution_count": 6,
     "metadata": {},
     "output_type": "execute_result"
    }
   ],
   "source": [
    "df.head()"
   ]
  },
  {
   "cell_type": "code",
   "execution_count": 7,
   "id": "c51b2b1b-063e-477e-af52-bab72ccbce94",
   "metadata": {
    "tags": []
   },
   "outputs": [
    {
     "data": {
      "text/plain": [
       "(500, 10)"
      ]
     },
     "execution_count": 7,
     "metadata": {},
     "output_type": "execute_result"
    }
   ],
   "source": [
    "df.shape"
   ]
  },
  {
   "cell_type": "code",
   "execution_count": 8,
   "id": "a5cbe1bf-a436-4043-943b-7367174b7f85",
   "metadata": {
    "tags": []
   },
   "outputs": [
    {
     "data": {
      "text/html": [
       "<div>\n",
       "<style scoped>\n",
       "    .dataframe tbody tr th:only-of-type {\n",
       "        vertical-align: middle;\n",
       "    }\n",
       "\n",
       "    .dataframe tbody tr th {\n",
       "        vertical-align: top;\n",
       "    }\n",
       "\n",
       "    .dataframe thead th {\n",
       "        text-align: right;\n",
       "    }\n",
       "</style>\n",
       "<table border=\"1\" class=\"dataframe\">\n",
       "  <thead>\n",
       "    <tr style=\"text-align: right;\">\n",
       "      <th></th>\n",
       "      <th>nom</th>\n",
       "      <th>data_naissance</th>\n",
       "      <th>email</th>\n",
       "      <th>phone</th>\n",
       "      <th>pays</th>\n",
       "      <th>ville</th>\n",
       "      <th>adresse</th>\n",
       "      <th>longitude</th>\n",
       "      <th>latitude</th>\n",
       "      <th>job</th>\n",
       "    </tr>\n",
       "  </thead>\n",
       "  <tbody>\n",
       "    <tr>\n",
       "      <th>495</th>\n",
       "      <td>Guy Allain</td>\n",
       "      <td>1926-05-29</td>\n",
       "      <td>augustinmonnier@example.net</td>\n",
       "      <td>+33 3 27 41 40 64</td>\n",
       "      <td>Cayman (Îles)</td>\n",
       "      <td>Saint Astrid</td>\n",
       "      <td>891, avenue Anouk Fernandes\\n42747 Allain-sur-Mer</td>\n",
       "      <td>-86.049378</td>\n",
       "      <td>38.407941</td>\n",
       "      <td>opticien-lunetier</td>\n",
       "    </tr>\n",
       "    <tr>\n",
       "      <th>496</th>\n",
       "      <td>Véronique Couturier</td>\n",
       "      <td>1953-11-25</td>\n",
       "      <td>stephanie33@example.com</td>\n",
       "      <td>+33 (0)4 67 77 95 89</td>\n",
       "      <td>Kazakhstan</td>\n",
       "      <td>Lopesdan</td>\n",
       "      <td>66, boulevard de Garnier\\n69208 Besson-sur-Rou...</td>\n",
       "      <td>-142.203233</td>\n",
       "      <td>-2.9776345</td>\n",
       "      <td>miroitier</td>\n",
       "    </tr>\n",
       "    <tr>\n",
       "      <th>497</th>\n",
       "      <td>Maryse Le Fournier</td>\n",
       "      <td>2022-10-13</td>\n",
       "      <td>guillaumeguy@example.org</td>\n",
       "      <td>03 68 10 82 63</td>\n",
       "      <td>Honduras</td>\n",
       "      <td>Hubert</td>\n",
       "      <td>26, rue Lacombe\\n59567 Sainte Pauletteboeuf</td>\n",
       "      <td>146.356242</td>\n",
       "      <td>26.5512505</td>\n",
       "      <td>webmestre</td>\n",
       "    </tr>\n",
       "    <tr>\n",
       "      <th>498</th>\n",
       "      <td>Luce de la Leleu</td>\n",
       "      <td>1963-02-25</td>\n",
       "      <td>lberthelot@example.net</td>\n",
       "      <td>04 72 41 18 94</td>\n",
       "      <td>Jamaïque</td>\n",
       "      <td>Perrot</td>\n",
       "      <td>95, chemin Anne Berger\\n48867 Garnier</td>\n",
       "      <td>150.590939</td>\n",
       "      <td>49.105684</td>\n",
       "      <td>art-thérapeute</td>\n",
       "    </tr>\n",
       "    <tr>\n",
       "      <th>499</th>\n",
       "      <td>Timothée Bonnin</td>\n",
       "      <td>2017-06-20</td>\n",
       "      <td>emileleclercq@example.com</td>\n",
       "      <td>+33 3 62 85 61 32</td>\n",
       "      <td>Botswana</td>\n",
       "      <td>Sainte Williamdan</td>\n",
       "      <td>860, chemin Dominique Jourdan\\n36624 Noël-sur-...</td>\n",
       "      <td>-0.190205</td>\n",
       "      <td>-9.8017565</td>\n",
       "      <td>ingénieur en construction automobile</td>\n",
       "    </tr>\n",
       "  </tbody>\n",
       "</table>\n",
       "</div>"
      ],
      "text/plain": [
       "                     nom data_naissance                        email  \\\n",
       "495           Guy Allain     1926-05-29  augustinmonnier@example.net   \n",
       "496  Véronique Couturier     1953-11-25      stephanie33@example.com   \n",
       "497   Maryse Le Fournier     2022-10-13     guillaumeguy@example.org   \n",
       "498     Luce de la Leleu     1963-02-25       lberthelot@example.net   \n",
       "499      Timothée Bonnin     2017-06-20    emileleclercq@example.com   \n",
       "\n",
       "                    phone           pays              ville  \\\n",
       "495     +33 3 27 41 40 64  Cayman (Îles)       Saint Astrid   \n",
       "496  +33 (0)4 67 77 95 89     Kazakhstan           Lopesdan   \n",
       "497        03 68 10 82 63       Honduras             Hubert   \n",
       "498        04 72 41 18 94       Jamaïque             Perrot   \n",
       "499     +33 3 62 85 61 32       Botswana  Sainte Williamdan   \n",
       "\n",
       "                                               adresse    longitude  \\\n",
       "495  891, avenue Anouk Fernandes\\n42747 Allain-sur-Mer   -86.049378   \n",
       "496  66, boulevard de Garnier\\n69208 Besson-sur-Rou...  -142.203233   \n",
       "497        26, rue Lacombe\\n59567 Sainte Pauletteboeuf   146.356242   \n",
       "498              95, chemin Anne Berger\\n48867 Garnier   150.590939   \n",
       "499  860, chemin Dominique Jourdan\\n36624 Noël-sur-...    -0.190205   \n",
       "\n",
       "       latitude                                   job  \n",
       "495   38.407941                     opticien-lunetier  \n",
       "496  -2.9776345                             miroitier  \n",
       "497  26.5512505                             webmestre  \n",
       "498   49.105684                        art-thérapeute  \n",
       "499  -9.8017565  ingénieur en construction automobile  "
      ]
     },
     "execution_count": 8,
     "metadata": {},
     "output_type": "execute_result"
    }
   ],
   "source": [
    "df.tail()"
   ]
  },
  {
   "cell_type": "code",
   "execution_count": 9,
   "id": "e1b2937b-e532-4e05-8de4-251e6a86a77f",
   "metadata": {
    "tags": []
   },
   "outputs": [],
   "source": [
    "df.to_csv(\"employes.csv\")"
   ]
  },
  {
   "cell_type": "code",
   "execution_count": 1,
   "id": "f4215dbb-493d-4bb6-87a7-f6ad0b7db919",
   "metadata": {},
   "outputs": [],
   "source": [
   ]
  }
 ],
 "metadata": {
  "kernelspec": {
   "display_name": "Python 3 (ipykernel)",
   "language": "python",
   "name": "python3"
  },
  "language_info": {
   "codemirror_mode": {
    "name": "ipython",
    "version": 3
   },
   "file_extension": ".py",
   "mimetype": "text/x-python",
   "name": "python",
   "nbconvert_exporter": "python",
   "pygments_lexer": "ipython3",
   "version": "3.11.8"
  }
 },
 "nbformat": 4,
 "nbformat_minor": 5
}
